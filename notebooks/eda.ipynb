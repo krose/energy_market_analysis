{
 "cells": [
  {
   "metadata": {},
   "cell_type": "code",
   "source": [
    "from itertools import cycle\n",
    "from typing import Optional, Union\n",
    "\n",
    "import os\n",
    "from datetime import datetime, timedelta\n",
    "from time import sleep\n",
    "import plotly.express as px\n",
    "import plotly.graph_objects as go\n",
    "import pandas as pd\n",
    "from glob import glob\n",
    "import requests_cache\n",
    "import numpy as np"
   ],
   "id": "277503e23704893c",
   "outputs": [],
   "execution_count": null
  },
  {
   "cell_type": "code",
   "id": "initial_id",
   "metadata": {
    "collapsed": true
   },
   "source": [
    "data_dir = '../database/'\n",
    "df = pd.read_parquet(data_dir + 'latest.parquet')\n",
    "df_smard = pd.read_parquet(data_dir + 'upd_smard_energy.parquet')\n",
    "df_om = pd.read_parquet(data_dir + 'upd_openweather.parquet')\n",
    "df_es = pd.read_parquet(data_dir + 'upd_epexspot.parquet')"
   ],
   "outputs": [],
   "execution_count": null
  },
  {
   "metadata": {},
   "cell_type": "code",
   "source": "df.columns",
   "id": "92c234e2c1f0bf08",
   "outputs": [],
   "execution_count": null
  },
  {
   "metadata": {},
   "cell_type": "code",
   "source": [
    "import plotly.graph_objects as go\n",
    "from plotly.subplots import make_subplots\n",
    "import pandas as pd\n",
    "\n",
    "def plot_multivariate_timeseries(df):\n",
    "    # Create a subplot with 3 rows\n",
    "    fig = make_subplots(rows=3, cols=1, shared_xaxes=True, vertical_spacing=0.02)\n",
    "\n",
    "    # Plot 'DA_auction_price' on the first subplot\n",
    "    fig.add_trace(go.Scatter(x=df.index, y=df['DA_auction_price'], name='DA Auction Price'),\n",
    "                  row=1, col=1)\n",
    "\n",
    "    # Plot 'total_gen', 'total_grid_load', 'residual_load_forecast' on the second subplot\n",
    "    fig.add_trace(go.Scatter(x=df.index, y=df['total_gen'], name='Total Generation'), row=2, col=1)\n",
    "    fig.add_trace(go.Scatter(x=df.index, y=df['total_grid_load'], name='Total Grid Load'), row=2, col=1)\n",
    "    fig.add_trace(go.Scatter(x=df.index, y=df['residual_load_forecast'], name='Residual Load Forecast'), row=2, col=1)\n",
    "\n",
    "    # Plot 'temperature_2m_hsee' and 'temperature_2m_solw' on the third subplot\n",
    "    fig.add_trace(go.Scatter(x=df.index, y=df['temperature_2m_hsee'], name='Temperature 2m HSEE'), row=3, col=1)\n",
    "    fig.add_trace(go.Scatter(x=df.index, y=df['temperature_2m_solw'], name='Temperature 2m SOLW'), row=3, col=1)\n",
    "\n",
    "    # Add a vertical line for today across all subplots\n",
    "    # today_line = dict(type='line', x0=pd.Timestamp.today(), y0=0, x1=pd.Timestamp.today(),\n",
    "    #                   y1=1, xref='x', yref='paper', line=dict(color='black', width=2, dash='dash'))\n",
    "    # fig.add_shape(today_line, row='all', col=1)\n",
    "    fig.add_vline(x=pd.Timestamp.today(), line_width=1, line_dash=\"dash\", line_color=\"gray\")\n",
    "\n",
    "    # Update layout\n",
    "    fig.update_layout(height=900, title='Multivariate Time Series Analysis',\n",
    "                      xaxis_title='DateTime', yaxis_title='Values')\n",
    "\n",
    "    # Show the figure\n",
    "    fig.show()\n",
    "plot_multivariate_timeseries(df=df)"
   ],
   "id": "57ad1223135ac35b",
   "outputs": [],
   "execution_count": null
  },
  {
   "metadata": {},
   "cell_type": "code",
   "source": "",
   "id": "c3c3dcbfafabbfd6",
   "outputs": [],
   "execution_count": null
  }
 ],
 "metadata": {
  "kernelspec": {
   "display_name": "Python 3",
   "language": "python",
   "name": "python3"
  },
  "language_info": {
   "codemirror_mode": {
    "name": "ipython",
    "version": 2
   },
   "file_extension": ".py",
   "mimetype": "text/x-python",
   "name": "python",
   "nbconvert_exporter": "python",
   "pygments_lexer": "ipython2",
   "version": "2.7.6"
  }
 },
 "nbformat": 4,
 "nbformat_minor": 5
}
